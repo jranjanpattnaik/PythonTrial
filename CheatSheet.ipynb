{
 "cells": [
  {
   "cell_type": "code",
   "execution_count": null,
   "metadata": {
    "collapsed": true
   },
   "outputs": [],
   "source": [
    "# insource the data from website with the dat file\n",
    "\n",
    "ds = pd.read_csv('http://www.stat.ufl.edu/~winner/data/airq402.dat',delim_whitespace=1,header = None)"
   ]
  },
  {
   "cell_type": "code",
   "execution_count": null,
   "metadata": {
    "collapsed": true
   },
   "outputs": [],
   "source": [
    "#drop the field\n",
    "\n",
    "df.drop([\"ID\",\"Personal Loan\"],axis=1)\n",
    "books.drop([\"imageUrlS\",\"imageUrlM\",\"imageUrlL\"],axis = 1, inplace = True)"
   ]
  },
  {
   "cell_type": "code",
   "execution_count": null,
   "metadata": {
    "collapsed": true
   },
   "outputs": [],
   "source": [
    "# display data frame with some group by\n",
    "df.groupby(['status']).size()"
   ]
  },
  {
   "cell_type": "code",
   "execution_count": null,
   "metadata": {
    "collapsed": true
   },
   "outputs": [],
   "source": [
    "#list the details of nul and unique count and details \n",
    "\n",
    "listItem = []\n",
    "for col in df.columns :\n",
    "    listItem.append([col,df[col].dtype,\n",
    "                     df[col].isnull().sum(),\n",
    "                     round((df[col].isnull().sum()/len(df[col])) * 100,2),\n",
    "                    df[col].nunique(),\n",
    "                     list(df[col].sample(5).drop_duplicates().values)]);\n",
    "\n",
    "dfDesc = pd.DataFrame(columns=['dataFeatures', 'dataType', 'null', 'nullPct', 'unique', 'uniqueSample'],\n",
    "                     data=listItem)\n",
    "dfDesc"
   ]
  },
  {
   "cell_type": "code",
   "execution_count": null,
   "metadata": {
    "collapsed": true
   },
   "outputs": [],
   "source": [
    "# conditional display with the few columns in the data frame \n",
    "\n",
    "pd.DataFrame(df[df[\"Experience\"]<0][[\"Age\",\"Experience\"]].sort_values(\"Age\"))"
   ]
  },
  {
   "cell_type": "code",
   "execution_count": null,
   "metadata": {
    "collapsed": true
   },
   "outputs": [],
   "source": [
    "# display the fields with condition \n",
    "books[books['yearOfPublication'] == 'DK Publishing Inc']"
   ]
  },
  {
   "cell_type": "code",
   "execution_count": null,
   "metadata": {
    "collapsed": true
   },
   "outputs": [],
   "source": [
    "# drop the fileds that are not required\n",
    "books = (books.drop([209538,221678,220731]))"
   ]
  },
  {
   "cell_type": "code",
   "execution_count": null,
   "metadata": {
    "collapsed": true
   },
   "outputs": [],
   "source": [
    "#Change the data type\n",
    "mpg_df['hp'] = mpg_df['hp'].astype(float)"
   ]
  },
  {
   "cell_type": "code",
   "execution_count": null,
   "metadata": {
    "collapsed": true
   },
   "outputs": [],
   "source": [
    "#Get all unique values in ascending order for column Age\n",
    "users[[\"Age\"]].sort_values(\"Age\")[\"Age\"].unique()\n",
    "print(sorted(users.Age.unique()))"
   ]
  },
  {
   "cell_type": "code",
   "execution_count": null,
   "metadata": {
    "collapsed": true
   },
   "outputs": [],
   "source": [
    "#replace numpy nan with median. \n",
    "mpg_df['hp'].replace(np.nan, mpg_df['hp'].median(), inplace = True)"
   ]
  },
  {
   "cell_type": "code",
   "execution_count": null,
   "metadata": {
    "collapsed": true
   },
   "outputs": [],
   "source": [
    "ratings[ratings.ISBN.isin(books.ISBN)]"
   ]
  },
  {
   "cell_type": "code",
   "execution_count": null,
   "metadata": {
    "collapsed": true
   },
   "outputs": [],
   "source": [
    "Outlier imputation function with median\n",
    "\n",
    " def Impute_Outliers(df,method = \"median\"):\n",
    "        \n",
    "        df_Columns = df.columns\n",
    "        Subset_Columns = pd.Series(df.select_dtypes(include=['int32','int64','float64','float32']).columns)\n",
    "\n",
    "        Subset = df[Subset_Columns]\n",
    "        \n",
    "        IQR = Subset.quantile(0.75) - Subset.quantile(0.25)\n",
    "        \n",
    "        Q3_values = Subset.quantile(0.75) + (1.5 * IQR)\n",
    "        Q1_values = Subset.quantile(0.25) - (1.5 * IQR)\n",
    "\n",
    "        Q1 = []\n",
    "        for i in range(1,len(Subset_Columns)+1):\n",
    "            c = \"Q1\"+str(i)\n",
    "            Q1.append(c)\n",
    "\n",
    "        Q3 = []\n",
    "        for i in range(1,len(Subset_Columns)+1):\n",
    "            c = \"Q3\"+str(i)\n",
    "            Q3.append(c)\n",
    "\n",
    "        df[Q3] = Subset > Q3_values[0:len(Subset_Columns)]\n",
    "        df[Q1] = Subset < Q1_values[0:len(Subset_Columns)]\n",
    "\n",
    "        Q1_Outliers = []\n",
    "        Q1_j = []\n",
    "        Q3_Outliers = []\n",
    "        Q3_j = []\n",
    "        for i in range(0,len(Q1)):\n",
    "            i = Q1[i]\n",
    "            No = df.shape[0] - df[i].value_counts()[0]\n",
    "            Q1_Outliers.append(No)\n",
    "            Q1_j.append(i)\n",
    "        Q1_Col = pd.DataFrame(Q1_j, columns=[\"Q1\"])\n",
    "        Q1_outliers = pd.DataFrame(Q1_Outliers, columns=[\"Q1 Outliers\"])\n",
    "        Outliers_impact_Q1 = Q1_Col.join(Q1_outliers)\n",
    "\n",
    "        for i in range(0,len(Q3)):\n",
    "            i = Q3[i]\n",
    "            No = df.shape[0] - df[i].value_counts()[0]\n",
    "            Q3_Outliers.append(No)\n",
    "            Q3_j.append(i)\n",
    "        Q3_Col = pd.DataFrame(Q3_j, columns=[\"Q3\"])\n",
    "        Q3_outliers = pd.DataFrame(Q3_Outliers, columns=[\"Q3 Outliers\"])\n",
    "        Outliers_impact_Q3 = Q3_Col.join(Q3_outliers)\n",
    "\n",
    "        Outliers_impact = Outliers_impact_Q1['Q1 Outliers']+Outliers_impact_Q3['Q3 Outliers']\n",
    "        Outliers_impact = (pd.DataFrame(Subset_Columns, columns=[\"Column Name\"])).join(pd.DataFrame(Outliers_impact, columns=[\"No of Outliers\"]))\n",
    "\n",
    "\n",
    "        aij = []\n",
    "        for i in range(0,len(Q3)):\n",
    "            i = Q3[i]\n",
    "            bij = ((pd.DataFrame(df[i])).index[(df[i] == True)].tolist())\n",
    "            aij = aij + bij\n",
    "        Q3_indices = (pd.Series(aij)).value_counts()\n",
    "\n",
    "\n",
    "        cij = []\n",
    "        for i in range(0,len(Q1)):\n",
    "            i = Q1[i]\n",
    "            dij = ((pd.DataFrame(df[i])).index[(df[i] == True)].tolist())\n",
    "            cij = cij + dij\n",
    "        Q1_indices = (pd.Series(cij)).value_counts()\n",
    "\n",
    "        print(\"No of records impacted by Outliers = \", Outliers_impact['No of Outliers'].sum())\n",
    "        print(\"No of records in outliers beyond Q4 = \", (pd.DataFrame(Q3_Outliers)[0]).sum())\n",
    "        print(\"No of records in outliers beyond Q1 = \", (pd.DataFrame(Q1_Outliers)[0]).sum())\n",
    "        print(\"No of records imputed using the\",method,\"is\", Outliers_impact['No of Outliers'].sum())\n",
    "\n",
    "        Outliers_Q3_Q1 = pd.DataFrame(Q3_values, columns = ['Q3_values']).join(pd.DataFrame(Q1_values, columns=['Q1_values']))\n",
    "        for i in range(0,len(Subset_Columns)):\n",
    "            Q3 = ((Outliers_Q3_Q1).T)[Subset_Columns[i]].loc['Q3_values']\n",
    "            Q1 = ((Outliers_Q3_Q1).T)[Subset_Columns[i]].loc['Q1_values']\n",
    "            df.loc[df[Subset_Columns[i]] > Q3, Subset_Columns[i]] = numpy.nan\n",
    "            df.loc[df[Subset_Columns[i]] < Q1, Subset_Columns[i]] = numpy.nan\n",
    "            if method == \"median\":\n",
    "                median1 = ((df.loc[(df[Subset_Columns[i]]<((((Outliers_Q3_Q1).T)[Subset_Columns[i]])['Q3_values'])) & \n",
    "                     (df[Subset_Columns[i]]>((((Outliers_Q3_Q1).T)[Subset_Columns[i]])['Q1_values']))])[Subset_Columns[i]]).median()\n",
    "            else:\n",
    "                median1 = ((df.loc[(df[Subset_Columns[i]]<((((Outliers_Q3_Q1).T)[Subset_Columns[i]])['Q3_values'])) & \n",
    "                     (df[Subset_Columns[i]]>((((Outliers_Q3_Q1).T)[Subset_Columns[i]])['Q1_values']))])[Subset_Columns[i]]).mean()\n",
    "            df.replace(numpy.nan,median1,inplace= True)\n",
    "        df = df.iloc[:,0:len(df_Columns)]\n",
    "        return df\n"
   ]
  },
  {
   "cell_type": "code",
   "execution_count": null,
   "metadata": {
    "collapsed": true
   },
   "outputs": [],
   "source": [
    "# box and whisker plot\n",
    "df.plot(kind='box', subplots=True, layout=(4,5), fontsize=8, figsize=(14,14))\n",
    "pyplot.show()"
   ]
  },
  {
   "cell_type": "code",
   "execution_count": null,
   "metadata": {
    "collapsed": true
   },
   "outputs": [],
   "source": [
    "# histogram for the data frame\n",
    "df.hist(figsize=(10,15),bins = 50,xlabelsize=8,ylabelsize =8,)\n",
    "#plt.show()"
   ]
  },
  {
   "cell_type": "code",
   "execution_count": null,
   "metadata": {
    "collapsed": true
   },
   "outputs": [],
   "source": [
    "\n",
    "#histogram from one of th field\n",
    "df['yr_built'].hist(figsize=(10,15),bins = 50,xlabelsize=8,ylabelsize =8,)"
   ]
  },
  {
   "cell_type": "code",
   "execution_count": null,
   "metadata": {
    "collapsed": true
   },
   "outputs": [],
   "source": [
    "\n",
    "# seperate only the continious data into seperate data frame\n",
    "ContiniousDataColumn = pd.Series(df.select_dtypes(include=['int32','int64','float64','float32']).columns)\n",
    "ContinousData = df[ContiniousDataColumn]"
   ]
  },
  {
   "cell_type": "code",
   "execution_count": null,
   "metadata": {
    "collapsed": true
   },
   "outputs": [],
   "source": [
    "# TRansformations and imputations "
   ]
  },
  {
   "cell_type": "code",
   "execution_count": null,
   "metadata": {
    "collapsed": true
   },
   "outputs": [],
   "source": [
    "dataset = pd.read_csv('Data.csv')\n",
    "X = dataset.iloc[:, :-1].values\n",
    "y = dataset.iloc[:, 3].values\n"
   ]
  },
  {
   "cell_type": "code",
   "execution_count": null,
   "metadata": {
    "collapsed": true
   },
   "outputs": [],
   "source": [
    "from sklearn.preprocessing import Imputer\n",
    "imputer = Imputer(missing_values = 'NaN',  strategy = 'mean', axis = 0)\n",
    "imputer = imputer.fit(X[:, 1:3])\n",
    "X[:, 1:3] = imputer.transform(X[:, 1:3])\n"
   ]
  },
  {
   "cell_type": "code",
   "execution_count": null,
   "metadata": {
    "collapsed": true
   },
   "outputs": [],
   "source": [
    "# One hot encoder\n",
    "\n",
    "from sklearn.preprocessing import  LabelEncoder, OneHotEncoder\n",
    "labelencoder_X = LabelEncoder()\n",
    "X[:, 0] = labelencoder_X.fit_transform(X[:, 0])\n",
    "onehotencoder =  OneHotEncoder(categorical_features = [0])\n",
    "X = onehotencoder.fit_transform(X).toarray()\n"
   ]
  },
  {
   "cell_type": "code",
   "execution_count": null,
   "metadata": {
    "collapsed": true
   },
   "outputs": [],
   "source": [
    "labelencoder_y = LabelEncoder()\n",
    "y = labelencoder_y.fit_transform(y)\n"
   ]
  },
  {
   "cell_type": "code",
   "execution_count": null,
   "metadata": {
    "collapsed": true
   },
   "outputs": [],
   "source": [
    "from sklearn.cross_validation import  train_test_split\n",
    "X_train, X_test, y_train, y_test =  train_test_split(X, y, test_size = 0.2,  random_state = 42)"
   ]
  },
  {
   "cell_type": "code",
   "execution_count": null,
   "metadata": {
    "collapsed": true
   },
   "outputs": [],
   "source": [
    "from sklearn.preprocessing import StandardScaler  \n",
    "sc_X = StandardScaler()\n",
    "X_train = sc_X.fit_transform(X_train)  \n",
    "X_test = sc_X.transform(X_test)"
   ]
  },
  {
   "cell_type": "code",
   "execution_count": null,
   "metadata": {
    "collapsed": true
   },
   "outputs": [],
   "source": [
    "# LAMBDA function"
   ]
  },
  {
   "cell_type": "code",
   "execution_count": 1,
   "metadata": {},
   "outputs": [
    {
     "data": {
      "text/plain": [
       "2"
      ]
     },
     "execution_count": 1,
     "metadata": {},
     "output_type": "execute_result"
    }
   ],
   "source": [
    "f = lambda x, y : x + y\n",
    "f(1,1)"
   ]
  },
  {
   "cell_type": "code",
   "execution_count": 2,
   "metadata": {},
   "outputs": [
    {
     "data": {
      "text/plain": [
       "6"
      ]
     },
     "execution_count": 2,
     "metadata": {},
     "output_type": "execute_result"
    }
   ],
   "source": [
    "z = lambda i,j,k : i*j*k\n",
    "z(1,2,3)\n"
   ]
  },
  {
   "cell_type": "markdown",
   "metadata": {},
   "source": [
    "#### The map() Function\n",
    "\n",
    "map() is a function with two arguments:\n",
    "\n",
    "r = map(func, seq)\n",
    "\n",
    "The first argument func is the name of a function and the second a sequence (e.g. a list) seq. map() applies the function func to all the elements of the sequence seq. It returns a new list with the elements changed by func"
   ]
  },
  {
   "cell_type": "code",
   "execution_count": null,
   "metadata": {
    "collapsed": true
   },
   "outputs": [],
   "source": [
    "def fahrenheit(T):\n",
    "    return ((float(9)/5)*T + 32)\n",
    "\n",
    "def celsius(T):\n",
    "    return (float(5)/9)*(T-32)"
   ]
  },
  {
   "cell_type": "code",
   "execution_count": null,
   "metadata": {
    "collapsed": true
   },
   "outputs": [],
   "source": [
    "temp = (36.5, 37, 37.5,39)\n",
    "\n",
    "F = map(fahrenheit, temp)\n",
    "\n",
    "print F\n",
    "\n",
    "C = map(celsius, F)\n",
    "\n",
    "print C"
   ]
  },
  {
   "cell_type": "markdown",
   "metadata": {},
   "source": [
    "By using lambda, we wouldn't have had to define and name the functions fahrenheit() and celsius()."
   ]
  },
  {
   "cell_type": "code",
   "execution_count": null,
   "metadata": {
    "collapsed": true
   },
   "outputs": [],
   "source": [
    "Celsius = [39.2, 36.5, 37.3, 37.8]\n",
    "\n",
    "Fahrenheit = map(lambda x: (float(9)/5)*x + 32, Celsius)\n",
    "\n",
    "print Fahrenheit\n",
    "\n",
    "C = map(lambda x: (float(5)/9)*(x-32), Fahrenheit)\n",
    "\n",
    "print C"
   ]
  }
 ],
 "metadata": {
  "kernelspec": {
   "display_name": "Python 3",
   "language": "python",
   "name": "python3"
  },
  "language_info": {
   "codemirror_mode": {
    "name": "ipython",
    "version": 3
   },
   "file_extension": ".py",
   "mimetype": "text/x-python",
   "name": "python",
   "nbconvert_exporter": "python",
   "pygments_lexer": "ipython3",
   "version": "3.6.1"
  }
 },
 "nbformat": 4,
 "nbformat_minor": 2
}
